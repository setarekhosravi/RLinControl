{
  "nbformat": 4,
  "nbformat_minor": 0,
  "metadata": {
    "colab": {
      "provenance": []
    },
    "kernelspec": {
      "name": "python3",
      "display_name": "Python 3"
    },
    "language_info": {
      "name": "python"
    }
  },
  "cells": [
    {
      "cell_type": "code",
      "execution_count": null,
      "metadata": {
        "colab": {
          "base_uri": "https://localhost:8080/"
        },
        "id": "HDJIXRlXK0Y1",
        "outputId": "79546d92-9c6a-4787-af1e-4bd56557eb5e"
      },
      "outputs": [
        {
          "output_type": "stream",
          "name": "stdout",
          "text": [
            "Collecting gymnasium[classic-control]\n",
            "  Using cached gymnasium-0.29.1-py3-none-any.whl.metadata (10 kB)\n",
            "Requirement already satisfied: numpy>=1.21.0 in /usr/local/lib/python3.10/dist-packages (from gymnasium[classic-control]) (1.26.4)\n",
            "Requirement already satisfied: cloudpickle>=1.2.0 in /usr/local/lib/python3.10/dist-packages (from gymnasium[classic-control]) (2.2.1)\n",
            "Requirement already satisfied: typing-extensions>=4.3.0 in /usr/local/lib/python3.10/dist-packages (from gymnasium[classic-control]) (4.12.2)\n",
            "Collecting farama-notifications>=0.0.1 (from gymnasium[classic-control])\n",
            "  Using cached Farama_Notifications-0.0.4-py3-none-any.whl.metadata (558 bytes)\n",
            "Requirement already satisfied: pygame>=2.1.3 in /usr/local/lib/python3.10/dist-packages (from gymnasium[classic-control]) (2.6.0)\n",
            "Using cached Farama_Notifications-0.0.4-py3-none-any.whl (2.5 kB)\n",
            "Using cached gymnasium-0.29.1-py3-none-any.whl (953 kB)\n",
            "Installing collected packages: farama-notifications, gymnasium\n",
            "Successfully installed farama-notifications-0.0.4 gymnasium-0.29.1\n"
          ]
        }
      ],
      "source": [
        "!pip install gymnasium[classic-control]"
      ]
    },
    {
      "cell_type": "code",
      "source": [
        "!pip install gymnasium[toy-text]"
      ],
      "metadata": {
        "colab": {
          "base_uri": "https://localhost:8080/"
        },
        "id": "f8sVIDe1LJdC",
        "outputId": "ea3d0107-4a16-46b6-e82a-71cd82dfcb12"
      },
      "execution_count": null,
      "outputs": [
        {
          "output_type": "stream",
          "name": "stdout",
          "text": [
            "Requirement already satisfied: gymnasium[toy-text] in /usr/local/lib/python3.10/dist-packages (0.29.1)\n",
            "Requirement already satisfied: numpy>=1.21.0 in /usr/local/lib/python3.10/dist-packages (from gymnasium[toy-text]) (1.26.4)\n",
            "Requirement already satisfied: cloudpickle>=1.2.0 in /usr/local/lib/python3.10/dist-packages (from gymnasium[toy-text]) (2.2.1)\n",
            "Requirement already satisfied: typing-extensions>=4.3.0 in /usr/local/lib/python3.10/dist-packages (from gymnasium[toy-text]) (4.12.2)\n",
            "Requirement already satisfied: farama-notifications>=0.0.1 in /usr/local/lib/python3.10/dist-packages (from gymnasium[toy-text]) (0.0.4)\n",
            "Requirement already satisfied: pygame>=2.1.3 in /usr/local/lib/python3.10/dist-packages (from gymnasium[toy-text]) (2.6.0)\n"
          ]
        }
      ]
    },
    {
      "cell_type": "code",
      "source": [
        "import gymnasium as gym\n",
        "from gymnasium.wrappers.record_video import RecordVideo\n",
        "\n",
        "env = gym.make(\"CartPole-v1\", render_mode=\"rgb_array\")\n",
        "env = RecordVideo(env, \"test.mp4\", step_trigger = lambda episode_number: True)\n",
        "observation, info = env.reset(seed=42)\n",
        "for _ in range(1000):\n",
        "   action = env.action_space.sample()\n",
        "   observation, reward, terminated, truncated, info = env.step(action)\n",
        "\n",
        "   if terminated or truncated:\n",
        "      observation, info = env.reset()\n",
        "\n",
        "env.close()\n"
      ],
      "metadata": {
        "colab": {
          "base_uri": "https://localhost:8080/"
        },
        "id": "hih6Xu3vLmPi",
        "outputId": "bfb8bf08-91f5-48e5-e3eb-586cf06dfa51"
      },
      "execution_count": null,
      "outputs": [
        {
          "output_type": "stream",
          "name": "stdout",
          "text": [
            "Moviepy - Building video /content/test.mp4/rl-video-step-0.mp4.\n",
            "Moviepy - Writing video /content/test.mp4/rl-video-step-0.mp4\n",
            "\n"
          ]
        },
        {
          "output_type": "stream",
          "name": "stderr",
          "text": []
        },
        {
          "output_type": "stream",
          "name": "stdout",
          "text": [
            "Moviepy - Done !\n",
            "Moviepy - video ready /content/test.mp4/rl-video-step-0.mp4\n",
            "Moviepy - Building video /content/test.mp4/rl-video-step-11.mp4.\n",
            "Moviepy - Writing video /content/test.mp4/rl-video-step-11.mp4\n",
            "\n"
          ]
        },
        {
          "output_type": "stream",
          "name": "stderr",
          "text": []
        },
        {
          "output_type": "stream",
          "name": "stdout",
          "text": [
            "Moviepy - Done !\n",
            "Moviepy - video ready /content/test.mp4/rl-video-step-11.mp4\n",
            "Moviepy - Building video /content/test.mp4/rl-video-step-30.mp4.\n",
            "Moviepy - Writing video /content/test.mp4/rl-video-step-30.mp4\n",
            "\n"
          ]
        },
        {
          "output_type": "stream",
          "name": "stderr",
          "text": []
        },
        {
          "output_type": "stream",
          "name": "stdout",
          "text": [
            "Moviepy - Done !\n",
            "Moviepy - video ready /content/test.mp4/rl-video-step-30.mp4\n",
            "Moviepy - Building video /content/test.mp4/rl-video-step-92.mp4.\n",
            "Moviepy - Writing video /content/test.mp4/rl-video-step-92.mp4\n",
            "\n"
          ]
        },
        {
          "output_type": "stream",
          "name": "stderr",
          "text": [
            "                                                   "
          ]
        },
        {
          "output_type": "stream",
          "name": "stdout",
          "text": [
            "Moviepy - Done !\n",
            "Moviepy - video ready /content/test.mp4/rl-video-step-92.mp4\n"
          ]
        },
        {
          "output_type": "stream",
          "name": "stderr",
          "text": [
            "\r"
          ]
        },
        {
          "output_type": "stream",
          "name": "stdout",
          "text": [
            "Moviepy - Building video /content/test.mp4/rl-video-step-106.mp4.\n",
            "Moviepy - Writing video /content/test.mp4/rl-video-step-106.mp4\n",
            "\n"
          ]
        },
        {
          "output_type": "stream",
          "name": "stderr",
          "text": []
        },
        {
          "output_type": "stream",
          "name": "stdout",
          "text": [
            "Moviepy - Done !\n",
            "Moviepy - video ready /content/test.mp4/rl-video-step-106.mp4\n",
            "Moviepy - Building video /content/test.mp4/rl-video-step-122.mp4.\n",
            "Moviepy - Writing video /content/test.mp4/rl-video-step-122.mp4\n",
            "\n"
          ]
        },
        {
          "output_type": "stream",
          "name": "stderr",
          "text": []
        },
        {
          "output_type": "stream",
          "name": "stdout",
          "text": [
            "Moviepy - Done !\n",
            "Moviepy - video ready /content/test.mp4/rl-video-step-122.mp4\n",
            "Moviepy - Building video /content/test.mp4/rl-video-step-139.mp4.\n",
            "Moviepy - Writing video /content/test.mp4/rl-video-step-139.mp4\n",
            "\n"
          ]
        },
        {
          "output_type": "stream",
          "name": "stderr",
          "text": []
        },
        {
          "output_type": "stream",
          "name": "stdout",
          "text": [
            "Moviepy - Done !\n",
            "Moviepy - video ready /content/test.mp4/rl-video-step-139.mp4\n",
            "Moviepy - Building video /content/test.mp4/rl-video-step-160.mp4.\n",
            "Moviepy - Writing video /content/test.mp4/rl-video-step-160.mp4\n",
            "\n"
          ]
        },
        {
          "output_type": "stream",
          "name": "stderr",
          "text": []
        },
        {
          "output_type": "stream",
          "name": "stdout",
          "text": [
            "Moviepy - Done !\n",
            "Moviepy - video ready /content/test.mp4/rl-video-step-160.mp4\n",
            "Moviepy - Building video /content/test.mp4/rl-video-step-174.mp4.\n",
            "Moviepy - Writing video /content/test.mp4/rl-video-step-174.mp4\n",
            "\n"
          ]
        },
        {
          "output_type": "stream",
          "name": "stderr",
          "text": []
        },
        {
          "output_type": "stream",
          "name": "stdout",
          "text": [
            "Moviepy - Done !\n",
            "Moviepy - video ready /content/test.mp4/rl-video-step-174.mp4\n",
            "Moviepy - Building video /content/test.mp4/rl-video-step-223.mp4.\n",
            "Moviepy - Writing video /content/test.mp4/rl-video-step-223.mp4\n",
            "\n"
          ]
        },
        {
          "output_type": "stream",
          "name": "stderr",
          "text": []
        },
        {
          "output_type": "stream",
          "name": "stdout",
          "text": [
            "Moviepy - Done !\n",
            "Moviepy - video ready /content/test.mp4/rl-video-step-223.mp4\n",
            "Moviepy - Building video /content/test.mp4/rl-video-step-243.mp4.\n",
            "Moviepy - Writing video /content/test.mp4/rl-video-step-243.mp4\n",
            "\n"
          ]
        },
        {
          "output_type": "stream",
          "name": "stderr",
          "text": []
        },
        {
          "output_type": "stream",
          "name": "stdout",
          "text": [
            "Moviepy - Done !\n",
            "Moviepy - video ready /content/test.mp4/rl-video-step-243.mp4\n",
            "Moviepy - Building video /content/test.mp4/rl-video-step-254.mp4.\n",
            "Moviepy - Writing video /content/test.mp4/rl-video-step-254.mp4\n",
            "\n"
          ]
        },
        {
          "output_type": "stream",
          "name": "stderr",
          "text": []
        },
        {
          "output_type": "stream",
          "name": "stdout",
          "text": [
            "Moviepy - Done !\n",
            "Moviepy - video ready /content/test.mp4/rl-video-step-254.mp4\n",
            "Moviepy - Building video /content/test.mp4/rl-video-step-276.mp4.\n",
            "Moviepy - Writing video /content/test.mp4/rl-video-step-276.mp4\n",
            "\n"
          ]
        },
        {
          "output_type": "stream",
          "name": "stderr",
          "text": []
        },
        {
          "output_type": "stream",
          "name": "stdout",
          "text": [
            "Moviepy - Done !\n",
            "Moviepy - video ready /content/test.mp4/rl-video-step-276.mp4\n",
            "Moviepy - Building video /content/test.mp4/rl-video-step-315.mp4.\n",
            "Moviepy - Writing video /content/test.mp4/rl-video-step-315.mp4\n",
            "\n"
          ]
        },
        {
          "output_type": "stream",
          "name": "stderr",
          "text": [
            "                                                   "
          ]
        },
        {
          "output_type": "stream",
          "name": "stdout",
          "text": [
            "Moviepy - Done !\n",
            "Moviepy - video ready /content/test.mp4/rl-video-step-315.mp4\n"
          ]
        },
        {
          "output_type": "stream",
          "name": "stderr",
          "text": [
            "\r"
          ]
        },
        {
          "output_type": "stream",
          "name": "stdout",
          "text": [
            "Moviepy - Building video /content/test.mp4/rl-video-step-331.mp4.\n",
            "Moviepy - Writing video /content/test.mp4/rl-video-step-331.mp4\n",
            "\n"
          ]
        },
        {
          "output_type": "stream",
          "name": "stderr",
          "text": []
        },
        {
          "output_type": "stream",
          "name": "stdout",
          "text": [
            "Moviepy - Done !\n",
            "Moviepy - video ready /content/test.mp4/rl-video-step-331.mp4\n",
            "Moviepy - Building video /content/test.mp4/rl-video-step-375.mp4.\n",
            "Moviepy - Writing video /content/test.mp4/rl-video-step-375.mp4\n",
            "\n"
          ]
        },
        {
          "output_type": "stream",
          "name": "stderr",
          "text": []
        },
        {
          "output_type": "stream",
          "name": "stdout",
          "text": [
            "Moviepy - Done !\n",
            "Moviepy - video ready /content/test.mp4/rl-video-step-375.mp4\n",
            "Moviepy - Building video /content/test.mp4/rl-video-step-410.mp4.\n",
            "Moviepy - Writing video /content/test.mp4/rl-video-step-410.mp4\n",
            "\n"
          ]
        },
        {
          "output_type": "stream",
          "name": "stderr",
          "text": [
            "                                                   "
          ]
        },
        {
          "output_type": "stream",
          "name": "stdout",
          "text": [
            "Moviepy - Done !\n",
            "Moviepy - video ready /content/test.mp4/rl-video-step-410.mp4\n"
          ]
        },
        {
          "output_type": "stream",
          "name": "stderr",
          "text": [
            "\r"
          ]
        },
        {
          "output_type": "stream",
          "name": "stdout",
          "text": [
            "Moviepy - Building video /content/test.mp4/rl-video-step-430.mp4.\n",
            "Moviepy - Writing video /content/test.mp4/rl-video-step-430.mp4\n",
            "\n"
          ]
        },
        {
          "output_type": "stream",
          "name": "stderr",
          "text": []
        },
        {
          "output_type": "stream",
          "name": "stdout",
          "text": [
            "Moviepy - Done !\n",
            "Moviepy - video ready /content/test.mp4/rl-video-step-430.mp4\n",
            "Moviepy - Building video /content/test.mp4/rl-video-step-440.mp4.\n",
            "Moviepy - Writing video /content/test.mp4/rl-video-step-440.mp4\n",
            "\n"
          ]
        },
        {
          "output_type": "stream",
          "name": "stderr",
          "text": []
        },
        {
          "output_type": "stream",
          "name": "stdout",
          "text": [
            "Moviepy - Done !\n",
            "Moviepy - video ready /content/test.mp4/rl-video-step-440.mp4\n",
            "Moviepy - Building video /content/test.mp4/rl-video-step-459.mp4.\n",
            "Moviepy - Writing video /content/test.mp4/rl-video-step-459.mp4\n",
            "\n"
          ]
        },
        {
          "output_type": "stream",
          "name": "stderr",
          "text": []
        },
        {
          "output_type": "stream",
          "name": "stdout",
          "text": [
            "Moviepy - Done !\n",
            "Moviepy - video ready /content/test.mp4/rl-video-step-459.mp4\n",
            "Moviepy - Building video /content/test.mp4/rl-video-step-469.mp4.\n",
            "Moviepy - Writing video /content/test.mp4/rl-video-step-469.mp4\n",
            "\n"
          ]
        },
        {
          "output_type": "stream",
          "name": "stderr",
          "text": []
        },
        {
          "output_type": "stream",
          "name": "stdout",
          "text": [
            "Moviepy - Done !\n",
            "Moviepy - video ready /content/test.mp4/rl-video-step-469.mp4\n",
            "Moviepy - Building video /content/test.mp4/rl-video-step-501.mp4.\n",
            "Moviepy - Writing video /content/test.mp4/rl-video-step-501.mp4\n",
            "\n"
          ]
        },
        {
          "output_type": "stream",
          "name": "stderr",
          "text": [
            "                                                   "
          ]
        },
        {
          "output_type": "stream",
          "name": "stdout",
          "text": [
            "Moviepy - Done !\n",
            "Moviepy - video ready /content/test.mp4/rl-video-step-501.mp4\n"
          ]
        },
        {
          "output_type": "stream",
          "name": "stderr",
          "text": [
            "\r"
          ]
        },
        {
          "output_type": "stream",
          "name": "stdout",
          "text": [
            "Moviepy - Building video /content/test.mp4/rl-video-step-519.mp4.\n",
            "Moviepy - Writing video /content/test.mp4/rl-video-step-519.mp4\n",
            "\n"
          ]
        },
        {
          "output_type": "stream",
          "name": "stderr",
          "text": []
        },
        {
          "output_type": "stream",
          "name": "stdout",
          "text": [
            "Moviepy - Done !\n",
            "Moviepy - video ready /content/test.mp4/rl-video-step-519.mp4\n",
            "Moviepy - Building video /content/test.mp4/rl-video-step-571.mp4.\n",
            "Moviepy - Writing video /content/test.mp4/rl-video-step-571.mp4\n",
            "\n"
          ]
        },
        {
          "output_type": "stream",
          "name": "stderr",
          "text": []
        },
        {
          "output_type": "stream",
          "name": "stdout",
          "text": [
            "Moviepy - Done !\n",
            "Moviepy - video ready /content/test.mp4/rl-video-step-571.mp4\n",
            "Moviepy - Building video /content/test.mp4/rl-video-step-582.mp4.\n",
            "Moviepy - Writing video /content/test.mp4/rl-video-step-582.mp4\n",
            "\n"
          ]
        },
        {
          "output_type": "stream",
          "name": "stderr",
          "text": []
        },
        {
          "output_type": "stream",
          "name": "stdout",
          "text": [
            "Moviepy - Done !\n",
            "Moviepy - video ready /content/test.mp4/rl-video-step-582.mp4\n",
            "Moviepy - Building video /content/test.mp4/rl-video-step-594.mp4.\n",
            "Moviepy - Writing video /content/test.mp4/rl-video-step-594.mp4\n",
            "\n"
          ]
        },
        {
          "output_type": "stream",
          "name": "stderr",
          "text": []
        },
        {
          "output_type": "stream",
          "name": "stdout",
          "text": [
            "Moviepy - Done !\n",
            "Moviepy - video ready /content/test.mp4/rl-video-step-594.mp4\n",
            "Moviepy - Building video /content/test.mp4/rl-video-step-626.mp4.\n",
            "Moviepy - Writing video /content/test.mp4/rl-video-step-626.mp4\n",
            "\n"
          ]
        },
        {
          "output_type": "stream",
          "name": "stderr",
          "text": []
        },
        {
          "output_type": "stream",
          "name": "stdout",
          "text": [
            "Moviepy - Done !\n",
            "Moviepy - video ready /content/test.mp4/rl-video-step-626.mp4\n",
            "Moviepy - Building video /content/test.mp4/rl-video-step-651.mp4.\n",
            "Moviepy - Writing video /content/test.mp4/rl-video-step-651.mp4\n",
            "\n"
          ]
        },
        {
          "output_type": "stream",
          "name": "stderr",
          "text": []
        },
        {
          "output_type": "stream",
          "name": "stdout",
          "text": [
            "Moviepy - Done !\n",
            "Moviepy - video ready /content/test.mp4/rl-video-step-651.mp4\n",
            "Moviepy - Building video /content/test.mp4/rl-video-step-677.mp4.\n",
            "Moviepy - Writing video /content/test.mp4/rl-video-step-677.mp4\n",
            "\n"
          ]
        },
        {
          "output_type": "stream",
          "name": "stderr",
          "text": []
        },
        {
          "output_type": "stream",
          "name": "stdout",
          "text": [
            "Moviepy - Done !\n",
            "Moviepy - video ready /content/test.mp4/rl-video-step-677.mp4\n",
            "Moviepy - Building video /content/test.mp4/rl-video-step-688.mp4.\n",
            "Moviepy - Writing video /content/test.mp4/rl-video-step-688.mp4\n",
            "\n"
          ]
        },
        {
          "output_type": "stream",
          "name": "stderr",
          "text": [
            "                                                   "
          ]
        },
        {
          "output_type": "stream",
          "name": "stdout",
          "text": [
            "Moviepy - Done !\n",
            "Moviepy - video ready /content/test.mp4/rl-video-step-688.mp4\n"
          ]
        },
        {
          "output_type": "stream",
          "name": "stderr",
          "text": [
            "\r"
          ]
        },
        {
          "output_type": "stream",
          "name": "stdout",
          "text": [
            "Moviepy - Building video /content/test.mp4/rl-video-step-709.mp4.\n",
            "Moviepy - Writing video /content/test.mp4/rl-video-step-709.mp4\n",
            "\n"
          ]
        },
        {
          "output_type": "stream",
          "name": "stderr",
          "text": []
        },
        {
          "output_type": "stream",
          "name": "stdout",
          "text": [
            "Moviepy - Done !\n",
            "Moviepy - video ready /content/test.mp4/rl-video-step-709.mp4\n",
            "Moviepy - Building video /content/test.mp4/rl-video-step-723.mp4.\n",
            "Moviepy - Writing video /content/test.mp4/rl-video-step-723.mp4\n",
            "\n"
          ]
        },
        {
          "output_type": "stream",
          "name": "stderr",
          "text": []
        },
        {
          "output_type": "stream",
          "name": "stdout",
          "text": [
            "Moviepy - Done !\n",
            "Moviepy - video ready /content/test.mp4/rl-video-step-723.mp4\n",
            "Moviepy - Building video /content/test.mp4/rl-video-step-737.mp4.\n",
            "Moviepy - Writing video /content/test.mp4/rl-video-step-737.mp4\n",
            "\n"
          ]
        },
        {
          "output_type": "stream",
          "name": "stderr",
          "text": [
            "                                                   "
          ]
        },
        {
          "output_type": "stream",
          "name": "stdout",
          "text": [
            "Moviepy - Done !\n",
            "Moviepy - video ready /content/test.mp4/rl-video-step-737.mp4\n"
          ]
        },
        {
          "output_type": "stream",
          "name": "stderr",
          "text": [
            "\r"
          ]
        },
        {
          "output_type": "stream",
          "name": "stdout",
          "text": [
            "Moviepy - Building video /content/test.mp4/rl-video-step-766.mp4.\n",
            "Moviepy - Writing video /content/test.mp4/rl-video-step-766.mp4\n",
            "\n"
          ]
        },
        {
          "output_type": "stream",
          "name": "stderr",
          "text": [
            "                                                   "
          ]
        },
        {
          "output_type": "stream",
          "name": "stdout",
          "text": [
            "Moviepy - Done !\n",
            "Moviepy - video ready /content/test.mp4/rl-video-step-766.mp4\n"
          ]
        },
        {
          "output_type": "stream",
          "name": "stderr",
          "text": [
            "\r"
          ]
        },
        {
          "output_type": "stream",
          "name": "stdout",
          "text": [
            "Moviepy - Building video /content/test.mp4/rl-video-step-784.mp4.\n",
            "Moviepy - Writing video /content/test.mp4/rl-video-step-784.mp4\n",
            "\n"
          ]
        },
        {
          "output_type": "stream",
          "name": "stderr",
          "text": [
            "                                                   "
          ]
        },
        {
          "output_type": "stream",
          "name": "stdout",
          "text": [
            "Moviepy - Done !\n",
            "Moviepy - video ready /content/test.mp4/rl-video-step-784.mp4\n"
          ]
        },
        {
          "output_type": "stream",
          "name": "stderr",
          "text": [
            "\r"
          ]
        },
        {
          "output_type": "stream",
          "name": "stdout",
          "text": [
            "Moviepy - Building video /content/test.mp4/rl-video-step-804.mp4.\n",
            "Moviepy - Writing video /content/test.mp4/rl-video-step-804.mp4\n",
            "\n"
          ]
        },
        {
          "output_type": "stream",
          "name": "stderr",
          "text": [
            "                                                   "
          ]
        },
        {
          "output_type": "stream",
          "name": "stdout",
          "text": [
            "Moviepy - Done !\n",
            "Moviepy - video ready /content/test.mp4/rl-video-step-804.mp4\n"
          ]
        },
        {
          "output_type": "stream",
          "name": "stderr",
          "text": [
            "\r"
          ]
        },
        {
          "output_type": "stream",
          "name": "stdout",
          "text": [
            "Moviepy - Building video /content/test.mp4/rl-video-step-823.mp4.\n",
            "Moviepy - Writing video /content/test.mp4/rl-video-step-823.mp4\n",
            "\n"
          ]
        },
        {
          "output_type": "stream",
          "name": "stderr",
          "text": [
            "                                                   "
          ]
        },
        {
          "output_type": "stream",
          "name": "stdout",
          "text": [
            "Moviepy - Done !\n",
            "Moviepy - video ready /content/test.mp4/rl-video-step-823.mp4\n"
          ]
        },
        {
          "output_type": "stream",
          "name": "stderr",
          "text": [
            "\r"
          ]
        },
        {
          "output_type": "stream",
          "name": "stdout",
          "text": [
            "Moviepy - Building video /content/test.mp4/rl-video-step-847.mp4.\n",
            "Moviepy - Writing video /content/test.mp4/rl-video-step-847.mp4\n",
            "\n"
          ]
        },
        {
          "output_type": "stream",
          "name": "stderr",
          "text": []
        },
        {
          "output_type": "stream",
          "name": "stdout",
          "text": [
            "Moviepy - Done !\n",
            "Moviepy - video ready /content/test.mp4/rl-video-step-847.mp4\n",
            "Moviepy - Building video /content/test.mp4/rl-video-step-859.mp4.\n",
            "Moviepy - Writing video /content/test.mp4/rl-video-step-859.mp4\n",
            "\n"
          ]
        },
        {
          "output_type": "stream",
          "name": "stderr",
          "text": []
        },
        {
          "output_type": "stream",
          "name": "stdout",
          "text": [
            "Moviepy - Done !\n",
            "Moviepy - video ready /content/test.mp4/rl-video-step-859.mp4\n",
            "Moviepy - Building video /content/test.mp4/rl-video-step-870.mp4.\n",
            "Moviepy - Writing video /content/test.mp4/rl-video-step-870.mp4\n",
            "\n"
          ]
        },
        {
          "output_type": "stream",
          "name": "stderr",
          "text": []
        },
        {
          "output_type": "stream",
          "name": "stdout",
          "text": [
            "Moviepy - Done !\n",
            "Moviepy - video ready /content/test.mp4/rl-video-step-870.mp4\n",
            "Moviepy - Building video /content/test.mp4/rl-video-step-917.mp4.\n",
            "Moviepy - Writing video /content/test.mp4/rl-video-step-917.mp4\n",
            "\n"
          ]
        },
        {
          "output_type": "stream",
          "name": "stderr",
          "text": []
        },
        {
          "output_type": "stream",
          "name": "stdout",
          "text": [
            "Moviepy - Done !\n",
            "Moviepy - video ready /content/test.mp4/rl-video-step-917.mp4\n",
            "Moviepy - Building video /content/test.mp4/rl-video-step-930.mp4.\n",
            "Moviepy - Writing video /content/test.mp4/rl-video-step-930.mp4\n",
            "\n"
          ]
        },
        {
          "output_type": "stream",
          "name": "stderr",
          "text": []
        },
        {
          "output_type": "stream",
          "name": "stdout",
          "text": [
            "Moviepy - Done !\n",
            "Moviepy - video ready /content/test.mp4/rl-video-step-930.mp4\n",
            "Moviepy - Building video /content/test.mp4/rl-video-step-963.mp4.\n",
            "Moviepy - Writing video /content/test.mp4/rl-video-step-963.mp4\n",
            "\n"
          ]
        },
        {
          "output_type": "stream",
          "name": "stderr",
          "text": []
        },
        {
          "output_type": "stream",
          "name": "stdout",
          "text": [
            "Moviepy - Done !\n",
            "Moviepy - video ready /content/test.mp4/rl-video-step-963.mp4\n",
            "Moviepy - Building video /content/test.mp4/rl-video-step-1000.mp4.\n",
            "Moviepy - Writing video /content/test.mp4/rl-video-step-1000.mp4\n",
            "\n"
          ]
        },
        {
          "output_type": "stream",
          "name": "stderr",
          "text": []
        },
        {
          "output_type": "stream",
          "name": "stdout",
          "text": [
            "Moviepy - Done !\n",
            "Moviepy - video ready /content/test.mp4/rl-video-step-1000.mp4\n"
          ]
        }
      ]
    },
    {
      "cell_type": "code",
      "source": [
        "import os\n",
        "from natsort import natsorted\n",
        "from moviepy.editor import VideoFileClip, concatenate_videoclips\n",
        "\n",
        "# Folder containing video files\n",
        "file_paths = \"/content/test\"\n",
        "video_clips = natsorted([os.path.join(file_paths, f) for f in os.listdir(file_paths) if f.endswith('.mp4')])\n",
        "clips = [VideoFileClip(clip) for clip in video_clips]\n",
        "final_clip = concatenate_videoclips(clips)\n",
        "output_path = \"/content/merged_video.mp4\"\n",
        "final_clip.write_videofile(output_path, codec='libx264', audio_codec='aac')\n",
        "\n",
        "print(f\"Video saved to {output_path}\")\n"
      ],
      "metadata": {
        "colab": {
          "base_uri": "https://localhost:8080/"
        },
        "id": "jSTTEtV-L0Kx",
        "outputId": "723e6ce3-7809-4c14-b1a9-bc924e4de8a5"
      },
      "execution_count": null,
      "outputs": [
        {
          "output_type": "stream",
          "name": "stdout",
          "text": [
            "Moviepy - Building video /content/merged_video.mp4.\n",
            "Moviepy - Writing video /content/merged_video.mp4\n",
            "\n"
          ]
        },
        {
          "output_type": "stream",
          "name": "stderr",
          "text": []
        },
        {
          "output_type": "stream",
          "name": "stdout",
          "text": [
            "Moviepy - Done !\n",
            "Moviepy - video ready /content/merged_video.mp4\n",
            "Video saved to /content/merged_video.mp4\n"
          ]
        }
      ]
    },
    {
      "cell_type": "code",
      "source": [],
      "metadata": {
        "id": "yj2PnXOaOW0G"
      },
      "execution_count": null,
      "outputs": []
    }
  ]
}